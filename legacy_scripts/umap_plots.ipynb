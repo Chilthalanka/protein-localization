{
 "cells": [
  {
   "cell_type": "code",
   "execution_count": null,
   "metadata": {
    "collapsed": true,
    "pycharm": {
     "is_executing": true
    }
   },
   "outputs": [],
   "source": [
    "import os\n",
    "import h5py\n",
    "import sklearn.datasets\n",
    "import pandas as pd\n",
    "import numpy as np\n",
    "from Bio import SeqIO\n",
    "from utils.general import LOCALIZATION\n",
    "import seaborn as sns\n",
    "from tqdm import tqdm\n",
    "import umap\n",
    "import matplotlib.pyplot as plt"
   ]
  },
  {
   "cell_type": "code",
   "execution_count": null,
   "outputs": [],
   "source": [
    "embeddings_file = h5py.File(os.path.join('data/embeddings', 'test_T5_reduced.h5'), 'r')\n",
    "embeddings = []\n",
    "labels = []\n",
    "for record in tqdm(SeqIO.parse(open('data/fasta_files/test_as_per_deeploc.fasta'), 'fasta')):\n",
    "    if len(record.seq) < 13000:\n",
    "        embeddings.append(embeddings_file[str(record.description)][:])\n",
    "\n",
    "        localization = record.description.split(' ')[1].split('-')[0]\n",
    "        labels.append(localization)# get localization as integer\n",
    "    else:\n",
    "        print(record.description)\n",
    "reduced_embeddings = np.array(embeddings)\n",
    "labels = np.array(labels)"
   ],
   "metadata": {
    "collapsed": false,
    "pycharm": {
     "name": "#%%\n",
     "is_executing": true
    }
   }
  },
  {
   "cell_type": "code",
   "execution_count": 1,
   "outputs": [
    {
     "ename": "NameError",
     "evalue": "name 'np' is not defined",
     "output_type": "error",
     "traceback": [
      "\u001B[1;31m---------------------------------------------------------------------------\u001B[0m",
      "\u001B[1;31mNameError\u001B[0m                                 Traceback (most recent call last)",
      "\u001B[1;32m<ipython-input-1-fd59ecea6c03>\u001B[0m in \u001B[0;36m<module>\u001B[1;34m\u001B[0m\n\u001B[1;32m----> 1\u001B[1;33m \u001B[0membeddings_0\u001B[0m \u001B[1;33m=\u001B[0m \u001B[0mnp\u001B[0m\u001B[1;33m.\u001B[0m\u001B[0mload\u001B[0m\u001B[1;33m(\u001B[0m\u001B[1;34m'data/results/embedings0.npy'\u001B[0m\u001B[1;33m)\u001B[0m\u001B[1;33m\u001B[0m\u001B[1;33m\u001B[0m\u001B[0m\n\u001B[0m\u001B[0;32m      2\u001B[0m \u001B[0mmapper0\u001B[0m \u001B[1;33m=\u001B[0m \u001B[0mumap\u001B[0m\u001B[1;33m.\u001B[0m\u001B[0mUMAP\u001B[0m\u001B[1;33m(\u001B[0m\u001B[1;33m)\u001B[0m\u001B[1;33m.\u001B[0m\u001B[0mfit\u001B[0m\u001B[1;33m(\u001B[0m\u001B[0membeddings_0\u001B[0m\u001B[1;33m)\u001B[0m\u001B[1;33m\u001B[0m\u001B[1;33m\u001B[0m\u001B[0m\n\u001B[0;32m      3\u001B[0m \u001B[1;33m\u001B[0m\u001B[0m\n",
      "\u001B[1;31mNameError\u001B[0m: name 'np' is not defined"
     ]
    }
   ],
   "source": [
    "embeddings_0 = np.load('data/results/embedings0.npy')\n",
    "mapper0 = umap.UMAP().fit(embeddings_0)"
   ],
   "metadata": {
    "collapsed": false,
    "pycharm": {
     "name": "#%%\n"
    }
   }
  },
  {
   "cell_type": "code",
   "execution_count": null,
   "outputs": [],
   "source": [
    "embeddings_1 = np.load('data/results/embedings1.npy')\n",
    "mapper1 = umap.UMAP().fit(embeddings_1)"
   ],
   "metadata": {
    "collapsed": false,
    "pycharm": {
     "name": "#%%\n",
     "is_executing": true
    }
   }
  },
  {
   "cell_type": "code",
   "execution_count": null,
   "outputs": [],
   "source": [
    "embeddings_2 = np.load('data/results/embedings2.npy')\n",
    "mapper2 = umap.UMAP().fit(embeddings_2)"
   ],
   "metadata": {
    "collapsed": false,
    "pycharm": {
     "name": "#%%\n",
     "is_executing": true
    }
   }
  },
  {
   "cell_type": "code",
   "execution_count": null,
   "outputs": [],
   "source": [
    "mapper_reduced = umap.UMAP().fit(reduced_embeddings)"
   ],
   "metadata": {
    "collapsed": false,
    "pycharm": {
     "name": "#%%\n",
     "is_executing": true
    }
   }
  },
  {
   "cell_type": "code",
   "execution_count": null,
   "outputs": [],
   "source": [
    "results = mapper.embedding_\n",
    "import umap.plot\n",
    "umap.plot.points(mapper, labels=labels)\n",
    "range = 8\n",
    "\n",
    "plt.xlim((mean[0]-range,mean[0]+range ))\n",
    "plt.ylim((mean[1]-range,mean[1]+range ))\n",
    "\n"
   ],
   "metadata": {
    "collapsed": false,
    "pycharm": {
     "name": "#%%\n",
     "is_executing": true
    }
   }
  },
  {
   "cell_type": "code",
   "execution_count": null,
   "outputs": [],
   "source": [
    "mean = np.array(results).mean(axis=0)\n",
    "plt.rcParams['figure.dpi'] = 300\n",
    "\n",
    "mapper = mapper_reduced\n",
    "\n",
    "sns.set(rc={'figure.figsize':(11,7)})\n",
    "sns.set_style(\"white\")\n",
    "results = mapper.embedding_\n",
    "int_labels = []\n",
    "for label in labels:\n",
    "    int_labels.append(LOCALIZATION.index(label))\n",
    "sns.scatterplot(x= results[:, 0], y=results[:, 1], hue=labels, palette='hls',alpha=0.8, s=50)\n",
    "#plt.scatter(\n",
    "#    results[:, 0],\n",
    "#    results[:, 1],\n",
    "#    s=12,\n",
    "#    c=[sns.color_palette()[x] for x in int_labels])\n",
    "\n",
    "range = 8\n",
    "plt.axis('off')\n",
    "#plt.legend().remove()\n",
    "plt.legend( prop={'size': 16})\n",
    "plt.xlim((mean[0]-range-1,mean[0]+range -2))\n",
    "plt.ylim((mean[1]-range+1,mean[1]+range+1))\n",
    "plt.gca().set_axis_off()\n",
    "plt.subplots_adjust(top = 1, bottom = 0, right = 1, left = 0,\n",
    "            hspace = 0, wspace = 0)\n",
    "plt.margins(0,0)\n",
    "plt.gca().xaxis.set_major_locator(plt.NullLocator())\n",
    "plt.gca().yaxis.set_major_locator(plt.NullLocator())\n",
    "plt.savefig('umap.png',bbox_inches = 'tight',pad_inches = 0)"
   ],
   "metadata": {
    "collapsed": false,
    "pycharm": {
     "name": "#%%\n",
     "is_executing": true
    }
   }
  },
  {
   "cell_type": "code",
   "execution_count": null,
   "outputs": [],
   "source": [],
   "metadata": {
    "collapsed": false,
    "pycharm": {
     "name": "#%%\n",
     "is_executing": true
    }
   }
  }
 ],
 "metadata": {
  "kernelspec": {
   "name": "python3",
   "language": "python",
   "display_name": "Python 3"
  },
  "language_info": {
   "codemirror_mode": {
    "name": "ipython",
    "version": 2
   },
   "file_extension": ".py",
   "mimetype": "text/x-python",
   "name": "python",
   "nbconvert_exporter": "python",
   "pygments_lexer": "ipython2",
   "version": "2.7.6"
  }
 },
 "nbformat": 4,
 "nbformat_minor": 0
}