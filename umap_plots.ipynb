{
 "cells": [
  {
   "cell_type": "code",
   "execution_count": null,
   "metadata": {
    "collapsed": true,
    "pycharm": {
     "is_executing": true
    }
   },
   "outputs": [],
   "source": [
    "import os\n",
    "import h5py\n",
    "import sklearn.datasets\n",
    "import pandas as pd\n",
    "import numpy as np\n",
    "from Bio import SeqIO\n",
    "from utils.general import LOCALIZATION\n",
    "import seaborn as sns\n",
    "sns.set(style='white', rc={'figure.figsize':(14,10)})\n",
    "from tqdm import tqdm\n",
    "import umap"
   ]
  },
  {
   "cell_type": "code",
   "execution_count": null,
   "outputs": [],
   "source": [
    "embeddings_file = h5py.File(os.path.join('data/embeddings', 'train_T5_reduced.h5'), 'r')\n",
    "embeddings = []\n",
    "labels = []\n",
    "for record in tqdm(SeqIO.parse(open('data/fasta_files/train.fasta'), 'fasta')):\n",
    "    if len(record.seq) < 13000:\n",
    "        embeddings.append(embeddings_file[str(record.description)][:])\n",
    "\n",
    "        localization = record.description.split(' ')[1].split('-')[0]\n",
    "        labels.append(localization)# get localization as integer\n",
    "    else:\n",
    "        print(record.description)\n",
    "embeddings = np.array(embeddings)\n",
    "labels = np.array(labels)"
   ],
   "metadata": {
    "collapsed": false,
    "pycharm": {
     "name": "#%%\n",
     "is_executing": true
    }
   }
  },
  {
   "cell_type": "code",
   "execution_count": null,
   "outputs": [],
   "source": [
    "mapper = umap.UMAP().fit(embeddings)"
   ],
   "metadata": {
    "collapsed": false,
    "pycharm": {
     "name": "#%%\n",
     "is_executing": true
    }
   }
  },
  {
   "cell_type": "code",
   "execution_count": null,
   "outputs": [],
   "source": [
    "import umap.plot\n",
    "umap.plot.points(mapper, labels=labels)"
   ],
   "metadata": {
    "collapsed": false,
    "pycharm": {
     "name": "#%%\n",
     "is_executing": true
    }
   }
  }
 ],
 "metadata": {
  "kernelspec": {
   "display_name": "Python 3",
   "language": "python",
   "name": "python3"
  },
  "language_info": {
   "codemirror_mode": {
    "name": "ipython",
    "version": 2
   },
   "file_extension": ".py",
   "mimetype": "text/x-python",
   "name": "python",
   "nbconvert_exporter": "python",
   "pygments_lexer": "ipython2",
   "version": "2.7.6"
  }
 },
 "nbformat": 4,
 "nbformat_minor": 0
}