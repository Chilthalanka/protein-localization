{
 "cells": [
  {
   "cell_type": "code",
   "execution_count": 1,
   "metadata": {
    "collapsed": true
   },
   "outputs": [
    {
     "ename": "FileNotFoundError",
     "evalue": "[Errno 2] No such file or directory: 'data/results/results_array_.npy'",
     "output_type": "error",
     "traceback": [
      "\u001B[1;31m---------------------------------------------------------------------------\u001B[0m",
      "\u001B[1;31mFileNotFoundError\u001B[0m                         Traceback (most recent call last)",
      "\u001B[1;32m<ipython-input-1-291b2455b4ad>\u001B[0m in \u001B[0;36m<module>\u001B[1;34m\u001B[0m\n\u001B[0;32m     39\u001B[0m \u001B[1;33m\u001B[0m\u001B[0m\n\u001B[0;32m     40\u001B[0m \u001B[0mdescriptions_with_hash\u001B[0m \u001B[1;33m=\u001B[0m \u001B[1;32mFalse\u001B[0m\u001B[1;33m\u001B[0m\u001B[1;33m\u001B[0m\u001B[0m\n\u001B[1;32m---> 41\u001B[1;33m \u001B[0mdenovo_predictions\u001B[0m \u001B[1;33m=\u001B[0m \u001B[0mnp\u001B[0m\u001B[1;33m.\u001B[0m\u001B[0mload\u001B[0m\u001B[1;33m(\u001B[0m\u001B[1;34m'data/results/results_array_.npy'\u001B[0m\u001B[1;33m)\u001B[0m\u001B[1;33m\u001B[0m\u001B[1;33m\u001B[0m\u001B[0m\n\u001B[0m\u001B[0;32m     42\u001B[0m \u001B[1;33m\u001B[0m\u001B[0m\n",
      "\u001B[1;32mc:\\users\\hannesstark\\anaconda3\\envs\\bio\\lib\\site-packages\\numpy\\lib\\npyio.py\u001B[0m in \u001B[0;36mload\u001B[1;34m(file, mmap_mode, allow_pickle, fix_imports, encoding)\u001B[0m\n\u001B[0;32m    414\u001B[0m             \u001B[0mown_fid\u001B[0m \u001B[1;33m=\u001B[0m \u001B[1;32mFalse\u001B[0m\u001B[1;33m\u001B[0m\u001B[1;33m\u001B[0m\u001B[0m\n\u001B[0;32m    415\u001B[0m         \u001B[1;32melse\u001B[0m\u001B[1;33m:\u001B[0m\u001B[1;33m\u001B[0m\u001B[1;33m\u001B[0m\u001B[0m\n\u001B[1;32m--> 416\u001B[1;33m             \u001B[0mfid\u001B[0m \u001B[1;33m=\u001B[0m \u001B[0mstack\u001B[0m\u001B[1;33m.\u001B[0m\u001B[0menter_context\u001B[0m\u001B[1;33m(\u001B[0m\u001B[0mopen\u001B[0m\u001B[1;33m(\u001B[0m\u001B[0mos_fspath\u001B[0m\u001B[1;33m(\u001B[0m\u001B[0mfile\u001B[0m\u001B[1;33m)\u001B[0m\u001B[1;33m,\u001B[0m \u001B[1;34m\"rb\"\u001B[0m\u001B[1;33m)\u001B[0m\u001B[1;33m)\u001B[0m\u001B[1;33m\u001B[0m\u001B[1;33m\u001B[0m\u001B[0m\n\u001B[0m\u001B[0;32m    417\u001B[0m             \u001B[0mown_fid\u001B[0m \u001B[1;33m=\u001B[0m \u001B[1;32mTrue\u001B[0m\u001B[1;33m\u001B[0m\u001B[1;33m\u001B[0m\u001B[0m\n\u001B[0;32m    418\u001B[0m \u001B[1;33m\u001B[0m\u001B[0m\n",
      "\u001B[1;31mFileNotFoundError\u001B[0m: [Errno 2] No such file or directory: 'data/results/results_array_.npy'"
     ]
    }
   ],
   "source": [
    "import numpy as np\n",
    "from sklearn.metrics import matthews_corrcoef\n",
    "from sklearn.neighbors import KNeighborsClassifier\n",
    "from torch.utils.data import DataLoader, Subset\n",
    "\n",
    "from datasets.embeddings_localization_dataset import EmbeddingsLocalizationDataset\n",
    "from torchvision.transforms import transforms\n",
    "\n",
    "from datasets.transforms import SolubilityToInt\n",
    "from utils.general import numpy_collate_for_reduced\n",
    "#train_embeddings = 'data/embeddings/train_T5_reduced.h5'\n",
    "#train_remapping = 'data/fasta_files/train.fasta'\n",
    "#\n",
    "#val_embeddings = 'data/embeddings/test_T5_reduced.h5'\n",
    "#val_remapping = 'data/fasta_files/test_as_per_deeploc.fasta'\n",
    "\n",
    "train_embeddings = 'data/embeddings/train_T5_reduced.h5'\n",
    "train_remapping = 'data/fasta_files/train.fasta'\n",
    "val_embeddings = 'data/embeddings/new_hard_set_t5_reduced.h5'\n",
    "val_remapping = 'data/embeddings/new_hard_set_t5_remapping.fasta'\n",
    "\n",
    "#train_embeddings = 'data/embeddings/train_reduced.h5'\n",
    "#train_remapping = 'data/embeddings/train_remapped.fasta'\n",
    "#val_embeddings = 'data/embeddings/new_hard_set_BERT_reduced.h5'\n",
    "#val_remapping = 'data/embeddings/new_hard_set_BERT_remapping.fasta'\n",
    "\n",
    "#train_embeddings = 'data/embeddings/train_reduced.h5'\n",
    "#train_remapping = 'data/embeddings/train_remapped.fasta'\n",
    "#\n",
    "#val_embeddings = 'data/embeddings/test_reduced.h5'\n",
    "#val_remapping = 'data/embeddings/test_remapped.fasta'\n",
    "#\n",
    "#\n",
    "#train_embeddings = 'data/seqvec_reduced/train_reduced.h5'\n",
    "#train_remapping = 'data/seqvec_reduced/train_remapped.fasta'\n",
    "#\n",
    "#val_embeddings = 'data/seqvec_reduced/test_reduced.h5'\n",
    "#val_remapping = 'data/seqvec_reduced/test_remapped.fasta'\n",
    "\n",
    "descriptions_with_hash = False\n",
    "denovo_predictions = np.load('data/results/results_array_.npy')"
   ]
  },
  {
   "cell_type": "code",
   "execution_count": null,
   "outputs": [],
   "source": [
    "\n",
    "transform = transforms.Compose([SolubilityToInt()])\n",
    "train_set = EmbeddingsLocalizationDataset(train_embeddings, train_remapping, max_length=6000, transform=transform,descriptions_with_hash=descriptions_with_hash)\n",
    "val_set = EmbeddingsLocalizationDataset(val_embeddings, val_remapping, transform=transform, descriptions_with_hash=True)\n",
    "\n",
    "train_loader = DataLoader(train_set, batch_size=len(train_set), collate_fn=numpy_collate_for_reduced)\n",
    "val_loader = DataLoader(val_set, batch_size=len(val_set), collate_fn=numpy_collate_for_reduced)\n",
    "\n",
    "train_data = next(iter(train_loader))  # tuple of embedding, localization, solubility, metadata\n",
    "val_data = next(iter(val_loader))  # tuple of embedding, localization, solubility, metadata\n",
    "classifier = KNeighborsClassifier(n_neighbors=1, p=1)\n",
    "#classifier = KNeighborsClassifier(n_neighbors=1, metric='cosine')\n",
    "classifier.fit(train_data[0], train_data[1])\n"
   ],
   "metadata": {
    "collapsed": false,
    "pycharm": {
     "name": "#%%\n"
    }
   }
  },
  {
   "cell_type": "code",
   "execution_count": null,
   "outputs": [],
   "source": [
    "predictions = classifier.predict(val_data[0])\n",
    "distances, _ = classifier.kneighbors(val_data[0])\n",
    "#distances = np.array(distances).sum(-1).squeeze()\n",
    "\n",
    "\n"
   ],
   "metadata": {
    "collapsed": false,
    "pycharm": {
     "name": "#%%\n"
    }
   }
  },
  {
   "cell_type": "code",
   "execution_count": null,
   "outputs": [],
   "source": [
    "import matplotlib\n",
    "from torch.utils.data import DataLoader, Subset\n",
    "import seaborn as sns\n",
    "sns.set_theme()\n",
    "import pandas as pd\n",
    "import matplotlib.pyplot as plt\n",
    "#matplotlib.rcParams['figure.dpi'] = 300\n",
    "matplotlib.rcParams['savefig.dpi'] = 300"
   ],
   "metadata": {
    "collapsed": false,
    "pycharm": {
     "name": "#%%\n"
    }
   }
  },
  {
   "cell_type": "code",
   "execution_count": null,
   "outputs": [],
   "source": [
    "# Get Accuracy and MCC\n",
    "print(len(predictions))\n",
    "print(100 * np.equal(predictions, val_data[1]).sum() / len(predictions))\n",
    "matthews_corrcoef(val_data[1], predictions)"
   ],
   "metadata": {
    "collapsed": false,
    "pycharm": {
     "name": "#%%\n"
    }
   }
  },
  {
   "cell_type": "code",
   "execution_count": null,
   "outputs": [],
   "source": [
    "cutoffs = np.linspace(distances.min(),distances.max(),1000)\n",
    "results = np.array([predictions,val_data[1], distances.squeeze()]).T\n",
    "\n",
    "\n",
    "best_accuracy = 0\n",
    "denovo_accuracies = []\n",
    "knn_accuracies = []\n",
    "accuracies = []\n",
    "mccs = []\n",
    "percentage_denovo = []\n",
    "for cutoff in cutoffs:\n",
    "    indices = results[:, 2] <= cutoff\n",
    "    below_cutoff = results[indices]\n",
    "    chosen_denovo_predictions = denovo_predictions[np.invert(indices)]\n",
    "    knn_accuracies.append(100 * np.equal(below_cutoff[:, 0], below_cutoff[:, 1]).sum() / len(below_cutoff))\n",
    "    denovo_accuracies.append(100 * np.equal(chosen_denovo_predictions[:, 0], chosen_denovo_predictions[:, 1]).sum() / len(chosen_denovo_predictions))\n",
    "    combined_results = np.concatenate([chosen_denovo_predictions[:, :2], below_cutoff[:, :2]])\n",
    "    accuracy = 100*np.equal(combined_results[:, 0], combined_results[:, 1]).sum() / len(combined_results)\n",
    "    accuracies.append(accuracy)\n",
    "    mccs.append(matthews_corrcoef(combined_results[:, 1], combined_results[:, 0]))\n",
    "    percentage_denovo.append(100*len(chosen_denovo_predictions)/len(results))\n",
    "    if accuracy >= best_accuracy:\n",
    "        best_accuracy = accuracy\n",
    "\n",
    "print('only Light attention accuracy: ',100 * np.equal(denovo_predictions[:, 0], denovo_predictions[:, 1]).sum() / len(denovo_predictions))\n",
    "print('best accuracy: ', best_accuracy)\n",
    "best_accuracy_index = np.array(accuracies).argmax()\n",
    "print('knn accuracy: ', knn_accuracies[best_accuracy_index])\n",
    "print('denovo accuracy: ', denovo_accuracies[best_accuracy_index])\n",
    "print('percentage of denovo predictions: ', percentage_denovo[best_accuracy_index])\n",
    "print('best_distance_cutoff: ', cutoffs[best_accuracy_index])\n",
    "print('knn only accuracy: ', knn_accuracies[-1])\n"
   ],
   "metadata": {
    "collapsed": false,
    "pycharm": {
     "name": "#%%\n"
    }
   }
  },
  {
   "cell_type": "code",
   "execution_count": null,
   "outputs": [],
   "source": [
    "plt.rcParams['figure.figsize'] = [10, 8]\n",
    "\n",
    "df = pd.DataFrame(np.array([cutoffs, knn_accuracies]).T,\n",
    "                  columns=[\"distance\",'knn_accuracies'])\n",
    "df = df.melt('distance', var_name='cols',  value_name='percent')\n",
    "sns.lineplot(x=\"distance\", y=\"percent\", hue='cols', data=df)\n",
    "plt.legend(labels=['1-NN accuracy'])\n",
    "plt.xlim(0,25)\n",
    "plt.ylim(0)\n",
    "plt.ylabel('Accuracy')\n",
    "plt.xlabel('Euclidean distance')\n",
    "plt.savefig('figure1.png')\n",
    "plt.show()\n",
    "plt.clf()\n",
    "\n",
    "df = pd.DataFrame(np.array([cutoffs,percentage_denovo, denovo_accuracies,]).T,\n",
    "                  columns=[\"distance\",'percentage_denovo','denovo_accuracies',])\n",
    "df = df.melt('distance', var_name='cols',  value_name='percent')\n",
    "sns.lineplot(x=\"distance\", y=\"percent\", hue='cols', data=df)\n",
    "plt.legend(labels=['percentage LA','LA accuracy'])\n",
    "plt.xlim(0,25)\n",
    "plt.ylim(0)\n",
    "plt.ylabel('Accuracy')\n",
    "plt.xlabel('Euclidean distance')\n",
    "plt.savefig('figure2.png')\n",
    "plt.show()\n",
    "plt.clf()\n",
    "\n",
    "df = pd.DataFrame(np.array([cutoffs, knn_accuracies, denovo_accuracies, accuracies, percentage_denovo]).T,\n",
    "                  columns=[\"distance\", 'knn_accuracies', 'denovo_accuracies',\"accuracies\", 'percentage_denovo'])\n",
    "df = df.melt('distance', var_name='cols',  value_name='percent')\n",
    "sns.lineplot(x=\"distance\", y=\"percent\", hue='cols', data=df)\n",
    "plt.legend(labels=['1NN accuracy', 'LA accuracy','combined accuracy', 'percentage LA'])\n",
    "plt.xlim(0,25)\n",
    "plt.ylim(0)\n",
    "plt.xlabel('Euclidean distance')\n",
    "plt.savefig('figure3.png')\n",
    "plt.show()\n",
    "plt.clf()\n",
    "\n",
    "df = pd.DataFrame(np.array([cutoffs,accuracies, knn_accuracies, denovo_accuracies]).T,\n",
    "                  columns=[\"distance\", \"accuracies\", 'knn_accuracies', 'denovo_accuracies'])\n",
    "df = df.melt('distance', var_name='cols',  value_name='percent')\n",
    "sns.lineplot(x=\"distance\", y=\"percent\", hue='cols', data=df)\n",
    "plt.legend(labels=['combined accuracy', '1NN accuracy', 'LA accuracy', 'percentage LA'])\n",
    "plt.savefig('figure4.png')\n",
    "\n",
    "\n"
   ],
   "metadata": {
    "collapsed": false,
    "pycharm": {
     "name": "#%%\n"
    }
   }
  }
 ],
 "metadata": {
  "kernelspec": {
   "display_name": "Python 3",
   "language": "python",
   "name": "python3"
  },
  "language_info": {
   "codemirror_mode": {
    "name": "ipython",
    "version": 2
   },
   "file_extension": ".py",
   "mimetype": "text/x-python",
   "name": "python",
   "nbconvert_exporter": "python",
   "pygments_lexer": "ipython2",
   "version": "2.7.6"
  }
 },
 "nbformat": 4,
 "nbformat_minor": 0
}