{
 "cells": [
  {
   "cell_type": "code",
   "execution_count": 42,
   "metadata": {
    "collapsed": true
   },
   "outputs": [],
   "source": [
    "from sklearn.neighbors import KNeighborsClassifier\n",
    "from torch.utils.data import DataLoader, Subset\n",
    "\n",
    "from datasets.embeddings_localization_dataset import EmbeddingsLocalizationDataset\n",
    "from torchvision.transforms import transforms\n",
    "\n",
    "from datasets.transforms import SolubilityToInt\n",
    "from utils.general import numpy_collate_reduced\n",
    "\n",
    "train_embeddings = 'data/embeddings/train_reduced.h5'\n",
    "val_embeddings = 'data/embeddings/val_reduced.h5'\n",
    "test_embeddings = 'data/embeddings/test_reduced.h5'\n",
    "train_remapping = 'data/embeddings/train_remapped.fasta'\n",
    "val_remapping = 'data/embeddings/val_remapped.fasta'\n",
    "test_remapping = 'data/embeddings/test_remapped.fasta'\n",
    "\n",
    "transform = transforms.Compose([SolubilityToInt()])\n",
    "train_set = EmbeddingsLocalizationDataset(train_embeddings, train_remapping, max_length=6000, transform=transform)\n",
    "val_set = EmbeddingsLocalizationDataset(val_embeddings, val_remapping, transform=transform)\n",
    "\n",
    "train_loader = DataLoader(train_set, batch_size=len(train_set), collate_fn=numpy_collate_reduced)\n",
    "val_loader = DataLoader(val_set, batch_size=len(val_set), collate_fn=numpy_collate_reduced)\n",
    "\n",
    "train_data = next(iter(train_loader))  # tuple of embedding, localization, solubility, metadata\n",
    "val_data = next(iter(val_loader))  # tuple of embedding, localization, solubility, metadata\n",
    "\n",
    "classifier = KNeighborsClassifier(n_neighbors=1)\n",
    "classifier.fit(train_data[0], train_data[1])\n",
    "predictions = classifier.predict(val_data[0])\n",
    "distances, _ = classifier.kneighbors(val_data[0])\n"
   ]
  },
  {
   "cell_type": "code",
   "execution_count": 43,
   "outputs": [],
   "source": [
    "from torch.utils.data import DataLoader, Subset\n",
    "import numpy as np\n",
    "import seaborn as sns\n",
    "sns.set_theme()\n",
    "import pandas as pd\n",
    "import matplotlib.pyplot as plt\n",
    "accuracy_threshold= 0.8\n",
    "#matplotlib.rcParams['figure.dpi'] = 300"
   ],
   "metadata": {
    "collapsed": false,
    "pycharm": {
     "name": "#%%\n"
    }
   }
  },
  {
   "cell_type": "code",
   "execution_count": 44,
   "outputs": [
    {
     "name": "stdout",
     "output_type": "stream",
     "text": [
      "[6. 2. 6. 6. 6. 1. 1. 6. 6. 0. 6. 6. 9. 1. 1. 2. 9. 6. 6. 6. 6. 1. 6. 6.\n",
      " 1. 0. 1. 6. 1. 6. 0. 1. 6. 6. 0. 6. 0. 0. 6. 1. 6. 1. 0. 0. 1. 1. 6. 1.\n",
      " 1. 6. 8. 1. 4. 6. 8. 1. 6. 1. 6. 0. 1. 6. 6. 6. 0. 5. 1. 1. 6. 6. 6. 8.\n",
      " 1. 0. 6. 0. 6. 0. 1. 1. 6. 6. 6. 6. 0. 6. 1. 1. 0. 2. 2. 3. 3. 6. 8. 0.\n",
      " 6. 6. 8. 3. 1. 0. 9. 3. 7. 6. 6. 6. 0. 6. 1. 8. 1. 2. 1. 6. 1. 2. 0. 0.\n",
      " 8. 1. 6. 0. 1. 1. 1. 0. 4. 0. 9. 1. 2. 6. 1. 1. 9. 1. 0. 9. 5. 6. 6. 5.\n",
      " 7. 0. 1. 9. 4. 6. 1. 8. 8. 6. 0. 9. 6. 1. 1. 6. 5. 8. 1. 2. 8. 8. 2. 0.\n",
      " 6. 8. 6. 1. 0. 7. 0. 1. 0. 5. 6. 2. 1. 3. 2. 6. 4. 5. 1. 6. 2. 0. 5. 6.\n",
      " 8. 6. 9. 1. 9. 6. 1. 1. 1. 0. 0. 1. 4. 5. 8. 6. 9. 6. 6. 5. 6. 2. 2. 6.\n",
      " 6. 6. 6. 9. 0. 6. 1. 6. 6. 5. 0. 9. 5. 0. 5. 6. 6. 6. 9. 3. 9. 6. 9. 6.\n",
      " 2. 2. 5. 5. 0. 5. 5. 2. 6. 2. 4. 3. 0. 2. 6. 5. 1. 6. 6. 8. 5. 7. 5. 0.\n",
      " 8. 8. 3. 0. 2. 9. 5. 2. 5. 5. 9. 0. 9. 9. 9.]\n",
      "[6. 2. 1. 6. 6. 1. 1. 6. 1. 0. 1. 6. 9. 1. 1. 2. 9. 6. 6. 6. 6. 1. 1. 6.\n",
      " 4. 0. 6. 6. 1. 6. 0. 1. 6. 3. 0. 6. 0. 0. 1. 1. 6. 1. 0. 1. 3. 1. 6. 1.\n",
      " 1. 6. 1. 1. 2. 6. 8. 6. 6. 6. 6. 1. 6. 6. 6. 6. 0. 5. 8. 1. 6. 6. 6. 8.\n",
      " 6. 0. 6. 0. 6. 0. 5. 1. 6. 6. 5. 6. 0. 6. 1. 6. 0. 2. 2. 2. 2. 6. 8. 0.\n",
      " 6. 6. 8. 3. 1. 0. 9. 1. 7. 6. 6. 6. 0. 6. 6. 8. 8. 2. 1. 6. 1. 2. 0. 0.\n",
      " 8. 1. 6. 0. 1. 1. 1. 0. 4. 0. 0. 1. 2. 6. 1. 6. 9. 6. 0. 9. 5. 6. 6. 5.\n",
      " 6. 0. 1. 9. 4. 6. 1. 8. 8. 6. 0. 9. 6. 6. 1. 6. 2. 8. 0. 7. 8. 8. 2. 0.\n",
      " 6. 8. 6. 1. 0. 7. 0. 1. 0. 5. 6. 2. 6. 2. 2. 6. 0. 5. 1. 6. 3. 4. 5. 6.\n",
      " 1. 6. 9. 1. 9. 6. 6. 5. 1. 0. 0. 1. 4. 5. 1. 6. 9. 6. 6. 3. 6. 9. 2. 6.\n",
      " 6. 6. 6. 9. 0. 6. 1. 6. 6. 1. 0. 9. 5. 0. 6. 6. 1. 6. 9. 2. 9. 1. 9. 6.\n",
      " 3. 2. 5. 5. 0. 5. 5. 2. 6. 2. 2. 3. 0. 2. 6. 5. 6. 6. 6. 8. 5. 7. 5. 0.\n",
      " 8. 8. 3. 0. 2. 9. 5. 2. 5. 5. 9. 0. 9. 9. 9.]\n",
      "[   0    1    2 ... 1155 1156 1157]\n",
      "1158\n",
      "1158\n"
     ]
    },
    {
     "data": {
      "text/plain": "<Figure size 432x288 with 1 Axes>",
      "image/png": "[encoded data removed]"
     },
     "metadata": {},
     "output_type": "display_data"
    },
    {
     "data": {
      "text/plain": "<matplotlib.lines.Line2D at 0x1e7a74c9a90>"
     },
     "execution_count": 44,
     "metadata": {},
     "output_type": "execute_result"
    },
    {
     "data": {
      "text/plain": "<Figure size 432x288 with 1 Axes>",
      "image/png": "[encoded data removed]"
     },
     "metadata": {},
     "output_type": "display_data"
    }
   ],
   "source": [
    "import matplotlib\n",
    "cutoffs = np.linspace(distances.min(),distances.max(),100)\n",
    "results = np.array([predictions,val_data[1], distances.squeeze()]).T\n",
    "accuracies = []\n",
    "number_sequences = []\n",
    "lower_accuracy_found = False\n",
    "low_accuracy_mask = np.ones(len(results))\n",
    "for cutoff in cutoffs:\n",
    "    indices = results[:, 2] <= cutoff\n",
    "    below_cutoff = results[results[:, 2] <= cutoff]\n",
    "    accuracy = np.equal(below_cutoff[:, 0], below_cutoff[:, 1]).sum() / len(below_cutoff)\n",
    "    accuracy = 0\n",
    "    accuracies.append(accuracy*100)\n",
    "    if accuracy <= accuracy_threshold:\n",
    "        lower_accuracy_found = True\n",
    "    if accuracy >= accuracy_threshold and not lower_accuracy_found:\n",
    "        high_accuracy_predictions = below_cutoff\n",
    "        low_accuracy_mask = np.invert(indices)\n",
    "    number_sequences.append(len(below_cutoff))\n",
    "\n",
    "print(high_accuracy_predictions[:, 0])\n",
    "print(high_accuracy_predictions[:, 1])\n",
    "print(np.where(low_accuracy_mask)[0])\n",
    "print(len(val_set))\n",
    "val_kept = Subset(val_set,np.where(low_accuracy_mask)[0])\n",
    "print(len(val_kept))\n",
    "df = pd.DataFrame(np.array([cutoffs,accuracies, number_sequences]).T, columns=[\"distance\", \"accuracy\", 'number sequences'])\n",
    "distance_plot = sns.lineplot(data=df, x=\"distance\", y=\"accuracy\")\n",
    "plt.axhline(y=80,linewidth=1, color='black')\n",
    "plt.show()\n",
    "sequences_plot = sns.lineplot(data=df, x=\"number sequences\", y=\"accuracy\")\n",
    "plt.axhline(y=80,linewidth=1, color='black')\n",
    "\n",
    "\n"
   ],
   "metadata": {
    "collapsed": false,
    "pycharm": {
     "name": "#%%\n"
    }
   }
  }
 ],
 "metadata": {
  "kernelspec": {
   "display_name": "Python 3",
   "language": "python",
   "name": "python3"
  },
  "language_info": {
   "codemirror_mode": {
    "name": "ipython",
    "version": 2
   },
   "file_extension": ".py",
   "mimetype": "text/x-python",
   "name": "python",
   "nbconvert_exporter": "python",
   "pygments_lexer": "ipython2",
   "version": "2.7.6"
  }
 },
 "nbformat": 4,
 "nbformat_minor": 0
}