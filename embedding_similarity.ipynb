{
 "cells": [
  {
   "cell_type": "code",
   "execution_count": 6,
   "metadata": {
    "collapsed": true
   },
   "outputs": [
    {
     "data": {
      "text/plain": "KNeighborsClassifier(n_neighbors=1, p=1)"
     },
     "execution_count": 6,
     "metadata": {},
     "output_type": "execute_result"
    }
   ],
   "source": [
    "import numpy as np\n",
    "from sklearn.metrics.pairwise import cosine_similarity\n",
    "from sklearn.neighbors import KNeighborsClassifier\n",
    "from sklearn.neighbors._dist_metrics import DistanceMetric\n",
    "from torch.utils.data import DataLoader, Subset\n",
    "\n",
    "from datasets.embeddings_localization_dataset import EmbeddingsLocalizationDataset\n",
    "from torchvision.transforms import transforms\n",
    "\n",
    "from datasets.transforms import SolubilityToInt\n",
    "from utils.general import numpy_collate_for_reduced\n",
    "\n",
    "train_embeddings = 'data/embeddings/train_reduced.h5'\n",
    "val_embeddings = 'data/embeddings/val_reduced.h5'\n",
    "test_embeddings = 'data/embeddings/test_reduced.h5'\n",
    "train_remapping = 'data/embeddings/train_remapped.fasta'\n",
    "val_remapping = 'data/embeddings/val_remapped.fasta'\n",
    "test_remapping = 'data/embeddings/test_remapped.fasta'\n",
    "\n",
    "transform = transforms.Compose([SolubilityToInt()])\n",
    "train_set = EmbeddingsLocalizationDataset(train_embeddings, train_remapping, max_length=6000, transform=transform)\n",
    "val_set = EmbeddingsLocalizationDataset(val_embeddings, val_remapping, transform=transform)\n",
    "\n",
    "train_loader = DataLoader(train_set, batch_size=len(train_set), collate_fn=numpy_collate_for_reduced)\n",
    "val_loader = DataLoader(val_set, batch_size=len(val_set), collate_fn=numpy_collate_for_reduced)\n",
    "\n",
    "train_data = next(iter(train_loader))  # tuple of embedding, localization, solubility, metadata\n",
    "val_data = next(iter(val_loader))  # tuple of embedding, localization, solubility, metadata\n",
    "classifier = KNeighborsClassifier(n_neighbors=1, p=1)\n",
    "classifier.fit(train_data[0], train_data[1])\n"
   ]
  },
  {
   "cell_type": "code",
   "execution_count": 7,
   "outputs": [],
   "source": [
    "predictions = classifier.predict(val_data[0])\n",
    "distances, _ = classifier.kneighbors(val_data[0])\n",
    "#distances = np.array(distances).sum(-1).squeeze()"
   ],
   "metadata": {
    "collapsed": false,
    "pycharm": {
     "name": "#%%\n"
    }
   }
  },
  {
   "cell_type": "code",
   "execution_count": 8,
   "outputs": [],
   "source": [
    "import matplotlib\n",
    "from torch.utils.data import DataLoader, Subset\n",
    "import seaborn as sns\n",
    "sns.set_theme()\n",
    "import pandas as pd\n",
    "import matplotlib.pyplot as plt\n",
    "accuracy_threshold= 0.8\n",
    "#matplotlib.rcParams['figure.dpi'] = 300"
   ],
   "metadata": {
    "collapsed": false,
    "pycharm": {
     "name": "#%%\n"
    }
   }
  },
  {
   "cell_type": "code",
   "execution_count": 31,
   "outputs": [
    {
     "name": "stdout",
     "output_type": "stream",
     "text": [
      "len validation set : 1158\n",
      "len of dataset for which no high accuracy predictions were possible : 798\n"
     ]
    },
    {
     "data": {
      "text/plain": "<matplotlib.lines.Line2D at 0x24145e3e580>"
     },
     "execution_count": 31,
     "metadata": {},
     "output_type": "execute_result"
    },
    {
     "data": {
      "text/plain": "<Figure size 432x288 with 1 Axes>",
      "image/png": "[encoded data removed]"
     },
     "metadata": {},
     "output_type": "display_data"
    }
   ],
   "source": [
    "\n",
    "cutoffs = np.linspace(distances.min(),distances.max(),100)\n",
    "results = np.array([predictions,val_data[1], distances.squeeze()]).T\n",
    "accuracies = []\n",
    "number_sequences = []\n",
    "lower_accuracy_found = False\n",
    "low_accuracy_mask = np.ones(len(results))\n",
    "for cutoff in cutoffs:\n",
    "    indices = results[:, 2] <= cutoff\n",
    "    below_cutoff = results[results[:, 2] <= cutoff]\n",
    "    accuracy = np.equal(below_cutoff[:, 0], below_cutoff[:, 1]).sum() / len(below_cutoff)\n",
    "    accuracies.append(accuracy*100)\n",
    "    if accuracy <= accuracy_threshold:\n",
    "        lower_accuracy_found = True\n",
    "    if accuracy >= accuracy_threshold and not lower_accuracy_found:\n",
    "        high_accuracy_predictions = below_cutoff\n",
    "        low_accuracy_mask = np.invert(indices)\n",
    "    number_sequences.append(len(below_cutoff))\n",
    "\n",
    "val_kept = Subset(val_set,np.where(low_accuracy_mask)[0])\n",
    "print('len validation set :', len(val_set))\n",
    "print('len of dataset for which no high accuracy predictions were possible :', len(val_kept))\n",
    "df = pd.DataFrame(np.array([cutoffs,accuracies, 100*np.array(number_sequences)/len(val_set)]).T, columns=[\"distance\", \"accuracy\", 'percentage_sequences'])\n",
    "df = df.melt('distance', var_name='cols',  value_name='percent')\n",
    "sns.lineplot(x=\"distance\", y=\"percent\", hue='cols', data=df)\n",
    "plt.legend(labels=['1-NN accuracy', 'percentage of sequences below distance'])\n",
    "plt.axhline(y=80,linewidth=1, color='black')\n",
    "\n",
    "\n"
   ],
   "metadata": {
    "collapsed": false,
    "pycharm": {
     "name": "#%%\n"
    }
   }
  }
 ],
 "metadata": {
  "kernelspec": {
   "display_name": "Python 3",
   "language": "python",
   "name": "python3"
  },
  "language_info": {
   "codemirror_mode": {
    "name": "ipython",
    "version": 2
   },
   "file_extension": ".py",
   "mimetype": "text/x-python",
   "name": "python",
   "nbconvert_exporter": "python",
   "pygments_lexer": "ipython2",
   "version": "2.7.6"
  }
 },
 "nbformat": 4,
 "nbformat_minor": 0
}